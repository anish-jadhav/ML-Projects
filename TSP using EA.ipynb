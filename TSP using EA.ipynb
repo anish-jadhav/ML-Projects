{
 "cells": [
  {
   "cell_type": "markdown",
   "id": "02b1c97e",
   "metadata": {},
   "source": [
    "# Parsing the XML Data"
   ]
  },
  {
   "cell_type": "code",
   "execution_count": 83,
   "id": "28ac056e",
   "metadata": {},
   "outputs": [
    {
     "name": "stdout",
     "output_type": "stream",
     "text": [
      "[[   0.  153.  510.  706.  966.  581.  455.   70.  160.  372.  157.  567.\n",
      "   342.  398.]\n",
      " [ 153.    0.  422.  664.  997.  598.  507.  197.  311.  479.  310.  581.\n",
      "   417.  376.]\n",
      " [ 510.  422.    0.  289.  744.  390.  437.  491.  645.  880.  618.  374.\n",
      "   455.  211.]\n",
      " [ 706.  664.  289.    0.  491.  265.  410.  664.  804. 1070.  768.  259.\n",
      "   499.  310.]\n",
      " [ 966.  997.  744.  491.    0.  400.  514.  902.  990. 1261.  947.  418.\n",
      "   635.  636.]\n",
      " [ 581.  598.  390.  265.  400.    0.  168.  522.  634.  910.  593.   19.\n",
      "   284.  239.]\n",
      " [ 455.  507.  437.  410.  514.  168.    0.  389.  482.  757.  439.  163.\n",
      "   124.  232.]\n",
      " [  70.  197.  491.  664.  902.  522.  389.    0.  154.  406.  133.  508.\n",
      "   273.  355.]\n",
      " [ 160.  311.  645.  804.  990.  634.  482.  154.    0.  276.   43.  623.\n",
      "   358.  498.]\n",
      " [ 372.  479.  880. 1070. 1261.  910.  757.  406.  276.    0.  318.  898.\n",
      "   633.  761.]\n",
      " [ 157.  310.  618.  768.  947.  593.  439.  133.   43.  318.    0.  582.\n",
      "   315.  464.]\n",
      " [ 567.  581.  374.  259.  418.   19.  163.  508.  623.  898.  582.    0.\n",
      "   275.  221.]\n",
      " [ 342.  417.  455.  499.  635.  284.  124.  273.  358.  633.  315.  275.\n",
      "     0.  247.]\n",
      " [ 398.  376.  211.  310.  636.  239.  232.  355.  498.  761.  464.  221.\n",
      "   247.    0.]]\n"
     ]
    }
   ],
   "source": [
    "import xml.etree.ElementTree as ET\n",
    "import numpy as np\n",
    "import random\n",
    "import matplotlib.pyplot as plt\n",
    "import time\n",
    "# Parse the XML file\n",
    "tree = ET.parse(r'C:\\Users\\Anish\\Downloads\\burma14.xml')\n",
    "root = tree.getroot()\n",
    "# Find the graph element\n",
    "graph = root.find('graph')\n",
    "# Initialize variables\n",
    "num_vertices = int(root.find('description').text.split('-')[0])\n",
    "cost_matrix = np.zeros((num_vertices, num_vertices))\n",
    "# Initialize vertex_id\n",
    "vertex_id = 0\n",
    "# Iterate through the edge elements and populate the cost matrix\n",
    "for vertex in graph.findall('vertex'):\n",
    "    for edge in vertex.findall('edge'):\n",
    "        target_vertex = int(edge.text)\n",
    "        cost = float(edge.attrib['cost'])\n",
    "        cost_matrix[vertex_id , target_vertex ] = cost\n",
    "    # Increment vertex_id\n",
    "    vertex_id += 1\n",
    "# Print the cost matrix\n",
    "print(cost_matrix)\n",
    "num_cities = num_vertices"
   ]
  },
  {
   "cell_type": "markdown",
   "id": "e101703e",
   "metadata": {},
   "source": [
    "# Cost matrix 'edge_costs' represent the costs between cities.\n",
    "# Genetic Algorithm Parameters"
   ]
  },
  {
   "cell_type": "code",
   "execution_count": 84,
   "id": "08f24834",
   "metadata": {},
   "outputs": [],
   "source": [
    "population_size = 100\n",
    "tournament_size = 10  # Size of the tournament for selection\n",
    "mutation_rate = 0.1  # Probability of mutation\n",
    "starttime=time.time() #Check the execution time"
   ]
  },
  {
   "cell_type": "markdown",
   "id": "3983d8d0",
   "metadata": {},
   "source": [
    "# Initialize the population\n"
   ]
  },
  {
   "cell_type": "code",
   "execution_count": 85,
   "id": "8483fbae",
   "metadata": {},
   "outputs": [],
   "source": [
    "population = []\n",
    "for _ in range(population_size):\n",
    "    tour = random.sample(range(1, num_cities + 1), num_cities) # Initialize a random tour by sampling cities without replacement\n",
    "    population.append(tour)"
   ]
  },
  {
   "cell_type": "markdown",
   "id": "9ea5c984",
   "metadata": {},
   "source": [
    "# Defining functions to calculate the cost, fitness, tournament selection, crossovers, mutations, replacement"
   ]
  },
  {
   "cell_type": "code",
   "execution_count": 86,
   "id": "e6ce42b7",
   "metadata": {},
   "outputs": [],
   "source": [
    "def calculate_total_cost(tour): # Function to calculate the total cost of the tour.\n",
    "    return sum(cost_matrix[tour[i - 1] - 1][tour[i] - 1] for i in range(num_cities))\n",
    "\n",
    "def fitness(individual): # Function to calculate the fitness with the formula provided.\n",
    "    cost = 0\n",
    "    for i in range(len(individual) - 1):\n",
    "        cost += cost_matrix[individual[i] - 1][individual[i + 1] - 1]\n",
    "    cost += cost_matrix[individual[-1] - 1][individual[0] - 1]\n",
    "    return 1 / cost\n",
    "\n",
    "# Tournament Selection: Select individuals for the tournament using random sampling from the population\n",
    "def tournament_selection(population, tournament_size):\n",
    "    selected = random.sample(population, tournament_size)\n",
    "    return max(selected, key=fitness)\n",
    "\n",
    "\n",
    "# Single-Point Crossover\n",
    "def single_point_crossover(parent1, parent2):\n",
    "    # Randomly select a crossover point between the first and second-to-last positions\n",
    "    point = random.randint(1, num_cities - 1)\n",
    "    child1 = parent1[:point] + [city for city in parent2 if city not in parent1[:point]]\n",
    "    child2 = parent2[:point] + [city for city in parent1 if city not in parent2[:point]]\n",
    "    return child1, child2\n",
    "\n",
    "#Multiple swap mutation\n",
    "def multiple_swap_mutation(individual, num_swaps=3):\n",
    "    for _ in range(num_swaps):\n",
    "        # Randomly select two distinct indices from the range of city positions\n",
    "        idx1, idx2 = random.sample(range(num_cities), 2)\n",
    "        individual[idx1], individual[idx2] = individual[idx2], individual[idx1]\n",
    "    return individual\n",
    "\n",
    "#Inversion Mutation Operator\n",
    "def inversion_mutation(individual):\n",
    "    mutated_individual = individual.copy()\n",
    "    # Randomly select two distinct points\n",
    "    point1, point2 = random.sample(range(len(individual)), 2)\n",
    "    start, end = min(point1, point2), max(point1, point2)\n",
    "    # Invert the subsequence between the two points\n",
    "    mutated_individual[start:end + 1] = reversed(mutated_individual[start:end + 1])\n",
    "    return mutated_individual\n",
    "\n",
    "# Mutation\n",
    "def mutate(tour):\n",
    "    if random.random() < mutation_rate:\n",
    "        # Swap two random cities in the tour\n",
    "        idx1, idx2 = random.sample(range(num_cities), 2)\n",
    "        tour[idx1], tour[idx2] = tour[idx2], tour[idx1]\n",
    "    return tour\n",
    "\n",
    "# Replacement\n",
    "def replace_worst(population, new_tour):\n",
    "    # Sort the population based on the calculated total cost of each individual\n",
    "    population.sort(key=calculate_total_cost)\n",
    "    population[-1] = new_tour\n",
    "    return population"
   ]
  },
  {
   "cell_type": "markdown",
   "id": "0de46002",
   "metadata": {},
   "source": [
    "# Genetic Algorithm Loop"
   ]
  },
  {
   "cell_type": "code",
   "execution_count": 87,
   "id": "cea43357",
   "metadata": {},
   "outputs": [],
   "source": [
    "best_fitness = 0\n",
    "y_points = []\n",
    "x_points = []\n",
    "avg=[]\n",
    "# Genetic Algorithm Loop\n",
    "generations = 10000  \n",
    "for generation in range(generations):\n",
    "    a = tournament_selection(population, tournament_size)\n",
    "    b = tournament_selection(population, tournament_size)\n",
    "    c, d = single_point_crossover(a, b)\n",
    "    e = multiple_swap_mutation(c)\n",
    "    f = multiple_swap_mutation(d)\n",
    "   \n",
    "    # Evaluate the fitness of e and f\n",
    "    e_cost = fitness(e)\n",
    "    f_cost = fitness(f)\n",
    "    \n",
    "    # Update the best fitness if needed\n",
    "    if e_cost > best_fitness:\n",
    "        best_fitness = e_cost\n",
    "    if f_cost > best_fitness:\n",
    "        best_fitness = f_cost\n",
    "    y_points.append(best_fitness)\n",
    "    # Run the replacement function\n",
    "    if e_cost < f_cost:\n",
    "        population = replace_worst(population, e)\n",
    "    else:\n",
    "        population = replace_worst(population, f)  \n",
    "    t=0\n",
    "    c=0\n",
    "    for randompop in population:\n",
    "        t+=fitness(randompop)\n",
    "        c+=1\n",
    "    avg.append(t/c)\n",
    "    x_points.append(generation)\n",
    "    \n",
    "endtime = time.time()"
   ]
  },
  {
   "cell_type": "markdown",
   "id": "10fbed77",
   "metadata": {},
   "source": [
    "# The final population contains the best tour found after the specified number of generations."
   ]
  },
  {
   "cell_type": "code",
   "execution_count": 88,
   "id": "766ce9f6",
   "metadata": {},
   "outputs": [
    {
     "name": "stdout",
     "output_type": "stream",
     "text": [
      "Best Tour: [7, 5, 14, 13, 12, 6, 4, 3, 2, 10, 11, 1, 8, 9]\n",
      "Best Tour Cost: 4327.0\n",
      "Best Fitness: 0.00026624068157614486\n",
      "Execution time is 11.352836847305298\n"
     ]
    },
    {
     "data": {
      "image/png": "[encoded data removed]",
      "text/plain": [
       "<Figure size 1080x576 with 1 Axes>"
      ]
     },
     "metadata": {
      "needs_background": "light"
     },
     "output_type": "display_data"
    }
   ],
   "source": [
    "best_tour = min(population, key=calculate_total_cost)\n",
    "best_cost = calculate_total_cost(best_tour)\n",
    "print(\"Best Tour:\", best_tour)\n",
    "print(\"Best Tour Cost:\", best_cost)\n",
    "print(\"Best Fitness:\", best_fitness)\n",
    "print(f\"Execution time is {endtime - starttime}\")\n",
    "plt.figure(figsize=(15, 8))\n",
    "plt.plot(x_points, y_points, linestyle='-',label='Actual Fitness')\n",
    "plt.plot(x_points, avg, linestyle='-',label='Average Fitness')\n",
    "plt.title(\"Convergence Curve of Travelling Salesman Problem\")\n",
    "plt.xlabel(\"X-axis Generations\")\n",
    "plt.ylabel(\"Y-axis Fitness \")\n",
    "plt.legend()\n",
    "plt.grid(True)\n",
    "plt.show()"
   ]
  }
 ],
 "metadata": {
  "kernelspec": {
   "display_name": "Python 3 (ipykernel)",
   "language": "python",
   "name": "python3"
  },
  "language_info": {
   "codemirror_mode": {
    "name": "ipython",
    "version": 3
   },
   "file_extension": ".py",
   "mimetype": "text/x-python",
   "name": "python",
   "nbconvert_exporter": "python",
   "pygments_lexer": "ipython3",
   "version": "3.9.7"
  }
 },
 "nbformat": 4,
 "nbformat_minor": 5
}
